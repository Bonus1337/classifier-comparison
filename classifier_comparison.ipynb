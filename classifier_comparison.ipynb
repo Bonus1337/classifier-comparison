{
 "cells": [
  {
   "cell_type": "markdown",
   "id": "e7f0d3fd",
   "metadata": {},
   "source": [
    "# Classifier Comparison on Digits Dataset\n",
    "\n",
    "In this notebook, we compare several basic classifiers on the Digits dataset from `scikit-learn`. This task helps to understand how different models behave and which ones perform better."
   ]
  },
  {
   "cell_type": "markdown",
   "id": "748ba079",
   "metadata": {},
   "source": [
    "## Import Libraries"
   ]
  },
  {
   "cell_type": "code",
   "execution_count": 1,
   "id": "f3bb78ea",
   "metadata": {},
   "outputs": [],
   "source": [
    "from sklearn.datasets import load_digits\n",
    "from sklearn.model_selection import train_test_split\n",
    "from sklearn.preprocessing import StandardScaler\n",
    "from sklearn.tree import DecisionTreeClassifier\n",
    "from sklearn.neighbors import KNeighborsClassifier\n",
    "from sklearn.linear_model import LogisticRegression\n",
    "from sklearn.metrics import accuracy_score\n",
    "import warnings\n",
    "warnings.filterwarnings('ignore')"
   ]
  },
  {
   "cell_type": "markdown",
   "id": "deb10a40",
   "metadata": {},
   "source": [
    "## Load Dataset"
   ]
  },
  {
   "cell_type": "code",
   "execution_count": 3,
   "id": "17ce4b66",
   "metadata": {},
   "outputs": [
    {
     "name": "stdout",
     "output_type": "stream",
     "text": [
      "Dataset shape: (1797, 64)\n"
     ]
    }
   ],
   "source": [
    "digits = load_digits()\n",
    "X = digits.data\n",
    "y = digits.target\n",
    "\n",
    "print(\"Dataset shape:\", X.shape)"
   ]
  },
  {
   "cell_type": "markdown",
   "id": "2ebb29b5",
   "metadata": {},
   "source": [
    "## Split the Data (80% Train / 20% Test)"
   ]
  },
  {
   "cell_type": "code",
   "execution_count": 5,
   "id": "f1cb5af1",
   "metadata": {},
   "outputs": [],
   "source": [
    "X_train, X_test, y_train, y_test = train_test_split(X, y, test_size=0.20, random_state=42)"
   ]
  },
  {
   "cell_type": "markdown",
   "id": "8ba23003",
   "metadata": {},
   "source": [
    "## Scale the Data"
   ]
  },
  {
   "cell_type": "code",
   "execution_count": 7,
   "id": "89eadbb1",
   "metadata": {},
   "outputs": [],
   "source": [
    "scaler = StandardScaler()\n",
    "X_train_scaled = scaler.fit_transform(X_train)\n",
    "X_test_scaled = scaler.transform(X_test)"
   ]
  },
  {
   "cell_type": "markdown",
   "id": "34a1da6f",
   "metadata": {},
   "source": [
    "## Create Classifiers"
   ]
  },
  {
   "cell_type": "code",
   "execution_count": 9,
   "id": "6a7bdacf",
   "metadata": {},
   "outputs": [],
   "source": [
    "classifiers = {\n",
    "    \"Decision Tree\": DecisionTreeClassifier(random_state=42),\n",
    "    \"K-Nearest Neighbors\": KNeighborsClassifier(),\n",
    "    \"Logistic Regression\": LogisticRegression(max_iter=1000, random_state=42)\n",
    "}"
   ]
  },
  {
   "cell_type": "markdown",
   "id": "5079aeb6-4ca1-4f01-9840-6be7d59d8551",
   "metadata": {},
   "source": [
    "## Train and Evaluate Models"
   ]
  },
  {
   "cell_type": "code",
   "execution_count": 11,
   "id": "13a81eba",
   "metadata": {},
   "outputs": [
    {
     "name": "stdout",
     "output_type": "stream",
     "text": [
      "Decision Tree -> Train Accuracy: 1.0000 | Test Accuracy: 0.8417\n",
      "K-Nearest Neighbors -> Train Accuracy: 0.9868 | Test Accuracy: 0.9750\n",
      "Logistic Regression -> Train Accuracy: 0.9986 | Test Accuracy: 0.9722\n"
     ]
    }
   ],
   "source": [
    "results = {}\n",
    "\n",
    "for name, model in classifiers.items():\n",
    "    \n",
    "    model.fit(X_train_scaled, y_train)\n",
    "    \n",
    "    train_pred = model.predict(X_train_scaled)\n",
    "    test_pred = model.predict(X_test_scaled)\n",
    "    \n",
    "    train_acc = accuracy_score(y_train, train_pred)\n",
    "    test_acc = accuracy_score(y_test, test_pred)\n",
    "    \n",
    "    results[name] = {\"Train Accuracy\": train_acc, \"Test Accuracy\": test_acc}\n",
    "    \n",
    "    print(f\"{name} -> Train Accuracy: {train_acc:.4f} | Test Accuracy: {test_acc:.4f}\")"
   ]
  },
  {
   "cell_type": "markdown",
   "id": "51d5175f",
   "metadata": {},
   "source": [
    "## Summary of Results"
   ]
  },
  {
   "cell_type": "code",
   "execution_count": 13,
   "id": "d17cbf90",
   "metadata": {},
   "outputs": [
    {
     "name": "stdout",
     "output_type": "stream",
     "text": [
      "                     Train Accuracy  Test Accuracy\n",
      "Decision Tree              1.000000       0.841667\n",
      "K-Nearest Neighbors        0.986778       0.975000\n",
      "Logistic Regression        0.998608       0.972222\n"
     ]
    }
   ],
   "source": [
    "import pandas as pd\n",
    "\n",
    "results_df = pd.DataFrame(results).T\n",
    "print(results_df)"
   ]
  },
  {
   "cell_type": "markdown",
   "id": "b6eca5e0",
   "metadata": {},
   "source": [
    "## Conclusions\n",
    "\n",
    "- **Decision Tree:** Achieved perfect accuracy on the training set, but lower accuracy on the test set. This indicates overfitting, as decision trees easily memorize the training data.\n",
    "- **K-Nearest Neighbors (KNN):** Performed well on both training and test sets, suggesting good generalization. KNN benefits from proper scaling of features.\n",
    "- **Logistic Regression:** Also performed very well and showed stable results, both on training and test sets. Logistic regression is a simple yet powerful classifier for many problems.\n",
    "\n",
    "**Overall:** KNN and Logistic Regression showed better generalization than Decision Tree. Decision Trees require careful tuning (e.g., limiting depth) to avoid overfitting.\n",
    "\n",
    "---"
   ]
  }
 ],
 "metadata": {
  "kernelspec": {
   "display_name": "Python [conda env:base] *",
   "language": "python",
   "name": "conda-base-py"
  },
  "language_info": {
   "codemirror_mode": {
    "name": "ipython",
    "version": 3
   },
   "file_extension": ".py",
   "mimetype": "text/x-python",
   "name": "python",
   "nbconvert_exporter": "python",
   "pygments_lexer": "ipython3",
   "version": "3.12.7"
  }
 },
 "nbformat": 4,
 "nbformat_minor": 5
}
